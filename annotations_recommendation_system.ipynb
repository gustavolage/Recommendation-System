{
 "cells": [
  {
   "attachments": {},
   "cell_type": "markdown",
   "id": "5d1d7e6c-dd23-4b47-9a24-686f9ee61400",
   "metadata": {},
   "source": [
    "# Recommendation System\n",
    "\n",
    "I'm starting this project in order to develop my knowledge of recommendation systems. I already know that this is a very important field in machine learning, but I've never had direct practical contact with it, so after coming across a pain in my work and starting to think about how I could solve it, I came up with the idea of using a recommender system approach and this has a good chance of being a great solution to my problem. \n",
    "\n",
    "I started researching recommendations and how they work and saw how flexible they are, dealing with text obtained from user feedback, user scores on items and even clicks on products displayed in catalogs. I'm very excited to develop my first project, so I looked for a dataset on [Kaggle](https://www.kaggle.com/datasets/zynicide/wine-reviews?resource=download) to start applying the knowledge I'll learn."
   ]
  },
  {
   "attachments": {},
   "cell_type": "markdown",
   "id": "65c2d237-58ef-4905-b337-066e6a016d18",
   "metadata": {},
   "source": [
    "---------\n",
    "# 1. How to create a Recommendation System?\n",
    "\n",
    "## 1.1 Why is this so usefull?\n",
    "\n",
    "When you want to see a new movie on Netflix and you don't know exactly what you're going to see, then, when you search the catalog, you see that there's a \"For you\" section and that there are lots of movies, some you haven't seen yet, but there are others that you have seen, they may be on another site or channel, but the point is that you've seen them and you really liked them!\n",
    "\n",
    "Or when you don't know which book you're going to read next and Amazon recommends a book you've never seen and that suits you.\n",
    "\n",
    "<img src=\"images_markdown\\amazon_books.png\" width=\"1000\" height=\"300\" />\n",
    "\n",
    "\n",
    "That's a recommendation system! With a bit of mathematics to recognize our patterns, a machine learning model can help us speed up our searches.\n",
    "\n",
    "## 1.2 How this works?\n",
    "The aim here is to move away from the dimensions of users (U) and items (I) to bring in another dimension (R) which refers to the rating that this user could give to the item.\n",
    "\n",
    "$$u: U \\cdot I\\rightarrow R$$\r\n",
    "\r\n",
    "With this in mind, our mission is to complete all the combinations of users and items (in mathematics the matrix (UxI)) the blank spaces in this matri\n",
    "x\n",
    "\n",
    "<img src=\"images_markdown\\rating_matrix.png\" width=\"600\" height=\"300\" />\n",
    "\n",
    "\n",
    "\n",
    "## 1.3 Key Problems\n",
    "### I - Gathering the \"know\" ratings for the matrix\n",
    "#### Explicit - when we get thes users rating for the item\n",
    "<img src=\"images_markdown\\explicit_implicit.png\" width=\"600\" height=\"300\" />\n",
    "> Hardly anyone rates anything\n",
    "> \n",
    "\n",
    "#### Implicit - when we don't have the rating, but use purchases, clicks, time on site to measure interest\n",
    "> It's hard to measure the not interest\n",
    "\n",
    "### II - Extrapolate unknown ratings from the known ones\n",
    "> Big problem: R matrix is very sparse, because, as mentioned above, hardly anyone rates anything\n",
    "> \n",
    "> Cold Start: new users and new items have no ratings in the history\n",
    "\n",
    "\n",
    "#### Three approachs to Recommendation Systems\n",
    "##### > <span style=\"color:lightblue\">Content-Based</span>\n",
    "##### > <span style=\"color:lightblue\">Collaborative Filtering</span>\n",
    "##### > <span style=\"color:lightblue\">Latent Factor Based </spa\n",
    "\n",
    "### III - Evaluating extrapolating methods"
   ]
  },
  {
   "cell_type": "markdown",
   "id": "35d2953c-7dfa-4c41-a293-dd7434e9e114",
   "metadata": {},
   "source": [
    "---------\n",
    "# Content-Based x Collaborative Filtering\n",
    "<img src=\"images_markdown\\content_collaborative.webp\" width=\"600\" height=\"300\" />\n",
    "\n",
    "\n",
    "## 1. Content-Based\n",
    "\n",
    "\n",
    "<img src=\"images_markdown\\content.png\" width=\"600\" height=\"300\" />\n",
    "\n",
    "\n",
    "The goal here is to create new ratings or items based on the history ratings of the user, so if him like circles, triangles and red thinks, we search similar features in our database and recommend it.\n",
    "\n",
    "> For each item, create a item profile\n",
    "> \n",
    "> Profile is a set of features, like to a movie: author, actors, title, ...\n",
    ">\n",
    "> We can visualize it as a vector\n",
    "\n",
    "### <span style=\"color:lightblue\">Pros</span>\n",
    "+ No need for data on other users\n",
    "+ Able to recommend to users with unique tastes\n",
    "+ Able to recommend new & unpopular items\n",
    "    + No first-rater problem\n",
    "+ Explanation for recommended items\n",
    "    + Content features that caused an item to be recommended\n",
    "\n",
    "### <span style=\"color:salmon\">Cons</span>\n",
    "+ Finding the appropriate features is hard\n",
    "+ Overspecialization\n",
    "    + Never recommends items outside user's content profile\n",
    "    + People might have multiple interests\n",
    "    + Unable to exploit quality judgments of other users\n",
    "+ Cold-start problem for new users"
   ]
  },
  {
   "cell_type": "markdown",
   "id": "b828c2e6-e25e-4789-becd-021c234a69a5",
   "metadata": {},
   "source": [
    "## 2. Collaborative Filtering\n",
    "\n",
    "<img src=\"images_markdown\\collaborative.png\" width=\"600\" height=\"300\" />\n",
    "\n",
    "> Consider user __x__\n",
    ">\n",
    "> Find __N__ of others users whose ratings <span style=\"color:salmon\">\"similar\"</span> to x's rating\n",
    "> \n",
    "> Estimate __x__'s ratings based on ratings of user __N__\n",
    "\n",
    "### But how can  we calculate the __similarity__?\n",
    "\n",
    "The most common approach is to use __Cosine and Centerd Cosine Similarity__, let's check what this is."
   ]
  },
  {
   "cell_type": "markdown",
   "id": "566b5c74-0f2c-4c8e-814a-9ced5be87fb5",
   "metadata": {},
   "source": [
    "---------\n",
    "### Cosine Similarity / Centered Cosine Similarity\n",
    "\n",
    "<span style=\"font-size:20px\"> $$U(x,i)=cos(\\theta)=\\frac{(x\\cdot i)}{(||x||\\cdot ||i||)}$$ </span>\n",
    "\n",
    "> This is a key tool to help us understand how these items ratings is similar in a high dimension space.\n",
    "> Greater values refer to greater similarity"
   ]
  },
  {
   "cell_type": "code",
   "execution_count": 1,
   "id": "df5e37e3-2c75-421c-a944-239a878c1f10",
   "metadata": {},
   "outputs": [],
   "source": [
    "import pandas as pd\n",
    "import numpy as np"
   ]
  },
  {
   "cell_type": "code",
   "execution_count": 2,
   "id": "094a6d81-8ea9-48cc-8d86-8adb916a0a1f",
   "metadata": {},
   "outputs": [],
   "source": [
    "cosine_similarity = lambda A, B: np.dot(A, B) / (np.linalg.norm(A) * np.linalg.norm(B))"
   ]
  },
  {
   "cell_type": "code",
   "execution_count": 3,
   "id": "2e032620-c7d6-4b67-b3da-03f7e8e94d8b",
   "metadata": {},
   "outputs": [],
   "source": [
    "df_example = pd.DataFrame(\n",
    "    {\n",
    "        'Book1': [4,5,np.nan,np.nan],\n",
    "        'Book2': [np.nan,5,np.nan,3],\n",
    "        'Book3': [np.nan,4,np.nan,np.nan],\n",
    "        'Book4': [5,np.nan,2,np.nan],\n",
    "        'Book5': [1,np.nan,4,np.nan],\n",
    "        'Book6': [np.nan,np.nan,5,np.nan],\n",
    "        'Book7': [np.nan,np.nan,np.nan,3],\n",
    "    }, index = ['u1', 'u2', 'u3', 'u4'])"
   ]
  },
  {
   "cell_type": "code",
   "execution_count": 4,
   "id": "f466d7c0-e79c-47a8-9e0d-b464715efd7f",
   "metadata": {},
   "outputs": [
    {
     "data": {
      "text/html": [
       "<div>\n",
       "<style scoped>\n",
       "    .dataframe tbody tr th:only-of-type {\n",
       "        vertical-align: middle;\n",
       "    }\n",
       "\n",
       "    .dataframe tbody tr th {\n",
       "        vertical-align: top;\n",
       "    }\n",
       "\n",
       "    .dataframe thead th {\n",
       "        text-align: right;\n",
       "    }\n",
       "</style>\n",
       "<table border=\"1\" class=\"dataframe\">\n",
       "  <thead>\n",
       "    <tr style=\"text-align: right;\">\n",
       "      <th></th>\n",
       "      <th>Book1</th>\n",
       "      <th>Book2</th>\n",
       "      <th>Book3</th>\n",
       "      <th>Book4</th>\n",
       "      <th>Book5</th>\n",
       "      <th>Book6</th>\n",
       "      <th>Book7</th>\n",
       "    </tr>\n",
       "  </thead>\n",
       "  <tbody>\n",
       "    <tr>\n",
       "      <th>u1</th>\n",
       "      <td>4.0</td>\n",
       "      <td>NaN</td>\n",
       "      <td>NaN</td>\n",
       "      <td>5.0</td>\n",
       "      <td>1.0</td>\n",
       "      <td>NaN</td>\n",
       "      <td>NaN</td>\n",
       "    </tr>\n",
       "    <tr>\n",
       "      <th>u2</th>\n",
       "      <td>5.0</td>\n",
       "      <td>5.0</td>\n",
       "      <td>4.0</td>\n",
       "      <td>NaN</td>\n",
       "      <td>NaN</td>\n",
       "      <td>NaN</td>\n",
       "      <td>NaN</td>\n",
       "    </tr>\n",
       "    <tr>\n",
       "      <th>u3</th>\n",
       "      <td>NaN</td>\n",
       "      <td>NaN</td>\n",
       "      <td>NaN</td>\n",
       "      <td>2.0</td>\n",
       "      <td>4.0</td>\n",
       "      <td>5.0</td>\n",
       "      <td>NaN</td>\n",
       "    </tr>\n",
       "    <tr>\n",
       "      <th>u4</th>\n",
       "      <td>NaN</td>\n",
       "      <td>3.0</td>\n",
       "      <td>NaN</td>\n",
       "      <td>NaN</td>\n",
       "      <td>NaN</td>\n",
       "      <td>NaN</td>\n",
       "      <td>3.0</td>\n",
       "    </tr>\n",
       "  </tbody>\n",
       "</table>\n",
       "</div>"
      ],
      "text/plain": [
       "    Book1  Book2  Book3  Book4  Book5  Book6  Book7\n",
       "u1    4.0    NaN    NaN    5.0    1.0    NaN    NaN\n",
       "u2    5.0    5.0    4.0    NaN    NaN    NaN    NaN\n",
       "u3    NaN    NaN    NaN    2.0    4.0    5.0    NaN\n",
       "u4    NaN    3.0    NaN    NaN    NaN    NaN    3.0"
      ]
     },
     "execution_count": 4,
     "metadata": {},
     "output_type": "execute_result"
    }
   ],
   "source": [
    "df_example"
   ]
  },
  {
   "cell_type": "markdown",
   "id": "97e6d722-8f4f-475b-a15c-ba7baeee058d",
   "metadata": {},
   "source": [
    "But we need to fill this blank spaces to do the math, one approach is to fill this with 0's, let's check how this goes. \n",
    "\n",
    "Let focus on users 1, 2 and 3.\n",
    "\n",
    "> The users 1 and 2 have only seen 1 movie in common, and the ratings is so close, but useus 1 and 3 seen 2 movies in common and diverge about the rating."
   ]
  },
  {
   "cell_type": "code",
   "execution_count": 5,
   "id": "8ba6c2a8-5345-45bf-b1bb-689a031f2f2c",
   "metadata": {},
   "outputs": [
    {
     "name": "stdout",
     "output_type": "stream",
     "text": [
      "Cosine Similarity (u1, u2): 0.3798685881987931\n",
      "Cosine Similarity (u1, u3): 0.3220305943597653\n"
     ]
    }
   ],
   "source": [
    "df_example_fill0 = df_example.fillna(0)\n",
    "cosine_similarity_u1_u2 = cosine_similarity(df_example_fill0.loc['u1'], df_example_fill0.loc['u2'])\n",
    "cosine_similarity_u1_u3 = cosine_similarity(df_example_fill0.loc['u1'], df_example_fill0.loc['u3'])\n",
    "\n",
    "print(f'Cosine Similarity (u1, u2): {cosine_similarity_u1_u2}')\n",
    "print(f'Cosine Similarity (u1, u3): {cosine_similarity_u1_u3}')"
   ]
  },
  {
   "cell_type": "markdown",
   "id": "31565524-8cf9-430b-b9e4-0e53da3af542",
   "metadata": {},
   "source": [
    "The result is as expected, u1 and u2 are more similar than u1 and u3. But the values are close, this is because we filled in the blanks with 0s, and that's like hating the movie.\n",
    "\n",
    "Then we need to centered the mean, to avoid the problem mentioned above, so to do that one approach is:\n",
    "+ Calculate the row mean\n",
    "+ Subtract every value to the mean\n",
    "+ Calculate cosine similarity"
   ]
  },
  {
   "cell_type": "code",
   "execution_count": 6,
   "id": "8a495be7-a929-4a00-8d59-7fda5bcb1313",
   "metadata": {},
   "outputs": [],
   "source": [
    "df_example_centerd = df_example.copy()\n",
    "row_means = df_example_centerd.mean(axis=1)"
   ]
  },
  {
   "cell_type": "code",
   "execution_count": 7,
   "id": "b351695a-da1a-451e-b06d-b4d00b7ff471",
   "metadata": {},
   "outputs": [
    {
     "data": {
      "text/plain": [
       "u1    3.333333\n",
       "u2    4.666667\n",
       "u3    3.666667\n",
       "u4    3.000000\n",
       "dtype: float64"
      ]
     },
     "execution_count": 7,
     "metadata": {},
     "output_type": "execute_result"
    }
   ],
   "source": [
    "row_means"
   ]
  },
  {
   "cell_type": "code",
   "execution_count": 8,
   "id": "65f1a2fe-9a14-44b2-a9f1-f423424d90cc",
   "metadata": {},
   "outputs": [
    {
     "data": {
      "text/html": [
       "<div>\n",
       "<style scoped>\n",
       "    .dataframe tbody tr th:only-of-type {\n",
       "        vertical-align: middle;\n",
       "    }\n",
       "\n",
       "    .dataframe tbody tr th {\n",
       "        vertical-align: top;\n",
       "    }\n",
       "\n",
       "    .dataframe thead th {\n",
       "        text-align: right;\n",
       "    }\n",
       "</style>\n",
       "<table border=\"1\" class=\"dataframe\">\n",
       "  <thead>\n",
       "    <tr style=\"text-align: right;\">\n",
       "      <th></th>\n",
       "      <th>Book1</th>\n",
       "      <th>Book2</th>\n",
       "      <th>Book3</th>\n",
       "      <th>Book4</th>\n",
       "      <th>Book5</th>\n",
       "      <th>Book6</th>\n",
       "      <th>Book7</th>\n",
       "    </tr>\n",
       "  </thead>\n",
       "  <tbody>\n",
       "    <tr>\n",
       "      <th>u1</th>\n",
       "      <td>0.666667</td>\n",
       "      <td>NaN</td>\n",
       "      <td>NaN</td>\n",
       "      <td>1.666667</td>\n",
       "      <td>-2.333333</td>\n",
       "      <td>NaN</td>\n",
       "      <td>NaN</td>\n",
       "    </tr>\n",
       "    <tr>\n",
       "      <th>u2</th>\n",
       "      <td>0.333333</td>\n",
       "      <td>0.333333</td>\n",
       "      <td>-0.666667</td>\n",
       "      <td>NaN</td>\n",
       "      <td>NaN</td>\n",
       "      <td>NaN</td>\n",
       "      <td>NaN</td>\n",
       "    </tr>\n",
       "    <tr>\n",
       "      <th>u3</th>\n",
       "      <td>NaN</td>\n",
       "      <td>NaN</td>\n",
       "      <td>NaN</td>\n",
       "      <td>-1.666667</td>\n",
       "      <td>0.333333</td>\n",
       "      <td>1.333333</td>\n",
       "      <td>NaN</td>\n",
       "    </tr>\n",
       "    <tr>\n",
       "      <th>u4</th>\n",
       "      <td>NaN</td>\n",
       "      <td>0.000000</td>\n",
       "      <td>NaN</td>\n",
       "      <td>NaN</td>\n",
       "      <td>NaN</td>\n",
       "      <td>NaN</td>\n",
       "      <td>0.0</td>\n",
       "    </tr>\n",
       "  </tbody>\n",
       "</table>\n",
       "</div>"
      ],
      "text/plain": [
       "       Book1     Book2     Book3     Book4     Book5     Book6  Book7\n",
       "u1  0.666667       NaN       NaN  1.666667 -2.333333       NaN    NaN\n",
       "u2  0.333333  0.333333 -0.666667       NaN       NaN       NaN    NaN\n",
       "u3       NaN       NaN       NaN -1.666667  0.333333  1.333333    NaN\n",
       "u4       NaN  0.000000       NaN       NaN       NaN       NaN    0.0"
      ]
     },
     "execution_count": 8,
     "metadata": {},
     "output_type": "execute_result"
    }
   ],
   "source": [
    "df_example_centerd = df_example_centerd.subtract(row_means, axis='rows')\n",
    "df_example_centerd"
   ]
  },
  {
   "cell_type": "code",
   "execution_count": 9,
   "id": "944bd667-6853-4f69-8dbd-27504552c644",
   "metadata": {},
   "outputs": [
    {
     "data": {
      "text/plain": [
       "u1   -0.0\n",
       "u2   -0.0\n",
       "u3    0.0\n",
       "u4    0.0\n",
       "dtype: float64"
      ]
     },
     "execution_count": 9,
     "metadata": {},
     "output_type": "execute_result"
    }
   ],
   "source": [
    "np.round(df_example_centerd.mean(axis=1), 5)"
   ]
  },
  {
   "cell_type": "markdown",
   "id": "7e982738-0671-4930-8ca4-c9ea5801ce03",
   "metadata": {},
   "source": [
    ">Now the 0 is the mean and we can fill the nulls with 0."
   ]
  },
  {
   "cell_type": "code",
   "execution_count": 10,
   "id": "5c74e81f-1c58-42e0-a54e-5d113ddbb76b",
   "metadata": {},
   "outputs": [],
   "source": [
    "df_example_centerd = df_example_centerd.fillna(0)"
   ]
  },
  {
   "cell_type": "code",
   "execution_count": 11,
   "id": "d5ff669c-d979-4360-b0e6-a75be3a0190f",
   "metadata": {},
   "outputs": [
    {
     "name": "stdout",
     "output_type": "stream",
     "text": [
      "Cosine Centered Similarity (u1, u2): 0.09\n",
      "Cosine Centered Similarity (u1, u3): -0.56\n"
     ]
    }
   ],
   "source": [
    "cosine_similarity_u1_u2 = cosine_similarity(df_example_centerd.loc['u1'], df_example_centerd.loc['u2'])\n",
    "cosine_similarity_u1_u3 = cosine_similarity(df_example_centerd.loc['u1'], df_example_centerd.loc['u3'])\n",
    "\n",
    "print(f'Cosine Centered Similarity (u1, u2): {cosine_similarity_u1_u2:.2f}')\n",
    "print(f'Cosine Centered Similarity (u1, u3): {cosine_similarity_u1_u3:.2f}')"
   ]
  },
  {
   "cell_type": "markdown",
   "id": "caec3afc-078f-4dfb-a756-1b5e4afd52fa",
   "metadata": {},
   "source": [
    "Now it's make more sense, the difference is so much bigger!"
   ]
  },
  {
   "cell_type": "markdown",
   "id": "95db63cb-9909-41d3-a5a2-4325c505cbc4",
   "metadata": {},
   "source": [
    "--------\n",
    "## Rating Predictions\n",
    "\n",
    "+ Let $r_x$ the vector of user's x rating\n",
    "+ Let $N$ the set of $k$ users most simmilar to $x$ (the neighborhood) how have also rated item $i$\n",
    "+ Prediction for user $x$ and item $i$\n",
    "\n",
    "+ <span style=\"color:Lightblue\"> __Option 1__ : Average </span>  <span style=\"font-size:25px\"> $\\longrightarrow r_{ui}=\\frac{\\sum_{y \\in N} r_{yi}}{k}$ </span>\n",
    "\n",
    "+ <span style=\"color:Lightblue\"> __Option 2__ : Weighted Average </span>  <span style=\"font-size:25px\"> $\\longrightarrow r_{ui}=\\frac{\\sum_{y \\in N} s_{xy} r_{yi}}{\\sum_{y \\in N} s_{xy}}$ </span>\n",
    "    + Where <span style=\"font-size:15px\"> $s_{xy} = sim(x,y)$ </span>\n",
    "\n",
    "\n",
    "### Item-Item Collaborative Filtering\n",
    "> So far: <span style=\"color:salmon\"> User-User Collaborative Filtering </span>\n",
    "\n",
    "> Another view: __Item-Item__\n",
    "> + For item $i$, find other similar items\n",
    "> + Estimate reatings for item $i$ based on ratings of similar items\n",
    "> + Can use same similarity metrics and prediction function as <span style=\"color:salmon\"> User-User Collaborative Filtering </span>\n",
    "\n",
    "> __Items is more \"simpler\" than users to measure similarity, because one pearson can be ecletic but a book not.__\n",
    "\n",
    "## Pros & Cons Collaborative Filtering\n",
    "### <span style=\"color:lightblue\">Pros</span>\n",
    "+ Work for any kind of item\n",
    "    + No feature selection needed\n",
    "\n",
    "### <span style=\"color:salmon\">Cons</span>\n",
    "+ Cold Start\n",
    "    + Need enough users on the system to recommend an item\n",
    "+ Sparcity\n",
    "    + The matrix users/ratings is sparse\n",
    "    + Hard to find users that rated the same items\n",
    "+ Canot recommend an unrated item\n",
    "+ Tends to recommend popular items"
   ]
  },
  {
   "attachments": {},
   "cell_type": "markdown",
   "id": "775fd187-e6d6-477d-a5e1-7311a150c2ab",
   "metadata": {},
   "source": [
    "## 3. Hybrid Methods\n",
    "\n",
    "### Global Baseline Estimate\n",
    "<img src=\"images_markdown\\global_baseline_estimate.png\" width=\"600\" height=\"100\" />\n",
    "\n",
    "### Global Baseline Estimate + Collaborative Filtering\n",
    "+ Calculate the __Global Baseline Estimate__ as mentione above\n",
    "+ Local Neighborhood (__CF/NN__)\n",
    "    + Ex: Joe didn't like related movie <span style=\"color:Chocolate\"> Signs </span>\n",
    "    + Rated it <span style=\"color:Chocolate\"> 1 star </span> bellow his average rating\n",
    "+ Final Estimation\n",
    "    +  Joe will rating the <span style=\"color:Salmon\"> ___The Six Sense:___ 4 - 1 = 3 stars</span>"
   ]
  },
  {
   "cell_type": "markdown",
   "id": "8d37b86a-813f-430e-b8be-2de740b46ed8",
   "metadata": {},
   "source": [
    "## CF: Common Practice\n",
    "+ Define <span style=\"color:salmon\"> __similarity__ </span> <span style=\"color:LightSlateGray\"> $s_{ij}$ </span> of items ___i___ and ___j___\n",
    "+ Select ___k___ nearest neighbors <span style=\"color:LightSlateGray\"> $N(i;x)$ </span>\n",
    "    > + Items most similar to ___i___, that were rated by ___x___\n",
    "+ Estimate rating  <span style=\"color:LightSlateGray\"> $r_{xi}$ </span> as the weighted average:\n",
    "\n",
    "<span style=\"font-size:25px\">  $r_{xi}=b_{xi} + \\frac{\\sum_{y \\in N(i;x)} s_{ij} \\cdot (r_{xj}-b_{xj})}{\\sum_{y \\in N(i;x)} s_{ij}}$ </span>\n",
    "\n",
    "<span style=\"color:lightblue; font-size:15px\">  $b_{xi}=\\mu + b_x + b_i$ </span>\n",
    "\n",
    "> <span style=\"color:lightblue; font-size:15px\">  $\\mu$ = overall mean book rating </span>\n",
    "> \n",
    "> <span style=\"color:lightblue; font-size:15px\">  $b_x$ = rating deviation of user ___x___ = (avg. rating of user ___x___ - $\\mu$</span>\n",
    "> \n",
    "> <span style=\"color:lightblue; font-size:15px\">  $b_i$ = rating deviation of book ___i___ </span> "
   ]
  },
  {
   "attachments": {},
   "cell_type": "markdown",
   "id": "89adbfe3-94f4-4866-ac1d-c2e31356537f",
   "metadata": {},
   "source": [
    "------\n",
    "## Evaluation Recommendation System\n",
    "\n",
    "<img src=\"images_markdown\\evaluating.png\" width=\"600\" height=\"100\" />\n",
    "\n",
    "\n",
    "+ Compare system prediction against wihtheld know ratings (test set __T__)\n",
    "+ Root Mean Squared Error\n",
    " \n",
    "<span style=\"font-size:25px\">  $RMSE=\\sqrt{\\frac{\\sum_{(x,i) \\in T} (r_{xi}-r^*_{xi})^2}{N}}$ </span> "
   ]
  },
  {
   "cell_type": "markdown",
   "id": "acda5b4c-94f3-4ee9-a167-45eb9b4a3eea",
   "metadata": {},
   "source": [
    "---------\n",
    "## ___References___:\n",
    "___[Overview of Recommender Systems | Stanford University](https://www.youtube.com/watch?v=1JRrCEgiyHM)___\n",
    "\n",
    "___[Content Based Recommendations | Stanford University](https://www.youtube.com/watch?v=2uxXPzm-7FY)___\n",
    "\n",
    "___[Collaborative Filtering | Stanford University](https://www.youtube.com/watch?v=h9gpufJFF-0)___\n",
    "\n",
    "___[Implementing Collaborative Filtering (Advanced) | Stanford University](https://www.youtube.com/watch?v=6BTLobS7AU8)___\n",
    "\n",
    "___[Evaluating Recommender Systems | Stanford University](https://www.youtube.com/watch?v=VZKMyTaLI00)___\n",
    "\n",
    "___[Collaborative Filtering : Data Science Concepts | ritvikmath](https://www.youtube.com/watch?v=Fmtorg_dmM0)___\n",
    "\n",
    "___[Recommender Systems — A Complete Guide to Machine Learning Models | Francesco Casalegno](https://towardsdatascience.com/recommender-systems-a-complete-guide-to-machine-learning-models-96d3f94ea748)___\n",
    "\n",
    "___[On the Role of Reviewer Expertise in Temporal Review Helpfulness Predictio | Mir Tafseer Nayeem & Davood Rafiein](https://aclanthology.org/2023.findings-eacl.125.pdf)___"
   ]
  }
 ],
 "metadata": {
  "kernelspec": {
   "display_name": "Python 3 (ipykernel)",
   "language": "python",
   "name": "python3"
  },
  "language_info": {
   "codemirror_mode": {
    "name": "ipython",
    "version": 3
   },
   "file_extension": ".py",
   "mimetype": "text/x-python",
   "name": "python",
   "nbconvert_exporter": "python",
   "pygments_lexer": "ipython3",
   "version": "3.11.2"
  }
 },
 "nbformat": 4,
 "nbformat_minor": 5
}
